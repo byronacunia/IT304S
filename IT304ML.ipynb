{
  "nbformat": 4,
  "nbformat_minor": 0,
  "metadata": {
    "colab": {
      "name": "IT304ML.ipynb",
      "provenance": [],
      "authorship_tag": "ABX9TyPAN6LHmgYhk6Qm10qy2+6c",
      "include_colab_link": true
    },
    "kernelspec": {
      "name": "python3",
      "display_name": "Python 3"
    }
  },
  "cells": [
    {
      "cell_type": "markdown",
      "metadata": {
        "id": "view-in-github",
        "colab_type": "text"
      },
      "source": [
        "<a href=\"https://colab.research.google.com/github/byronacunia/IT304S/blob/main/IT304ML.ipynb\" target=\"_parent\"><img src=\"https://colab.research.google.com/assets/colab-badge.svg\" alt=\"Open In Colab\"/></a>"
      ]
    },
    {
      "cell_type": "markdown",
      "metadata": {
        "id": "4EZo1T5LK8aS"
      },
      "source": [
        "# IT304S: Contratação de Energia para Grandes Consumidores.\r\n",
        "##Prof. Dr. Luiz Carlos Pereira da Silva"
      ]
    },
    {
      "cell_type": "code",
      "metadata": {
        "id": "z9vecr2JJtJ0"
      },
      "source": [
        ""
      ],
      "execution_count": null,
      "outputs": []
    }
  ]
}